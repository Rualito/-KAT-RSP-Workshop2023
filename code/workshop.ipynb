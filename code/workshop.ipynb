{
 "cells": [
  {
   "cell_type": "code",
   "execution_count": null,
   "metadata": {},
   "outputs": [],
   "source": [
    "# Setting up the environment\n",
    "!git clone https://github.com/Rualito/KAT-RSP-Workshop2023\n",
    "!pip install git+https://gitlab.tue.nl/20235021/rsp\n",
    "!pip install rsp[utils]\n",
    "\n",
    "import rsp # If this works, then the environment is well configured\n",
    "import rsp.utils"
   ]
  },
  {
   "cell_type": "markdown",
   "metadata": {},
   "source": [
    "# From pulses to gates\n",
    "\n",
    "The experimental parameters are loaded up first from a json configuration file. It defines the atomic energy levels which are to be considered for computation, the various trap and laser parameters, as well as some additional settings such as environment temperature.\n",
    "\n",
    "Here we also define the initial configuration for the atomic system, giving it a standard lattice unit and attributing labels to the different atoms"
   ]
  },
  {
   "cell_type": "code",
   "execution_count": null,
   "metadata": {},
   "outputs": [],
   "source": [
    "import numpy as np\n",
    "\n",
    "from rsp.core.experiment import AtomSystem, ExperimentSetup\n",
    "\n",
    "# Loading experimental settings\n",
    "exp = ExperimentSetup.fromFile('/content/KAT-RSP-Workshop2023/code/hardware_config.json') # on colab\n",
    "\n",
    "# Initializing the atom system\n",
    "lattice_unit = 3e-6\n",
    "\n",
    "atomsys = AtomSystem()\n",
    "atom = exp.get_atom()\n",
    "\n",
    "# loading the atom system with atoms and respective positions\n",
    "atomsys.add_atom('A', atom, np.array([0,0,0]))\n"
   ]
  },
  {
   "cell_type": "markdown",
   "metadata": {},
   "source": [
    "## Rabi oscillations\n",
    "The fundamental interaction between atoms and lasers yields Rabi Oscillations, which are simply oscillations between two different energy levels."
   ]
  },
  {
   "cell_type": "code",
   "execution_count": null,
   "metadata": {},
   "outputs": [],
   "source": [
    "from rsp.core.circuit.pulses import PulsedGate\n",
    "from pulser.pulse import Pulse\n",
    "from pulser.waveforms import ConstantWaveform\n",
    "\n",
    "# returns a constant amplitude/detuning pulse \n",
    "def const_amplitude(transition, amplitude, detuning=0):\n",
    "    rabi_freq = exp.rabi_freq[{'01':('0','1'), '1r':('1','r')}[transition]]\n",
    "    duration = int(1/rabi_freq * 1e9)\n",
    "    amp_wf = ConstantWaveform(duration, amplitude)\n",
    "    det_wf = ConstantWaveform(duration, -detuning)\n",
    "    \n",
    "    return Pulse(amplitude=amp_wf, detuning=det_wf, phase=0)\n",
    "\n",
    "# To define a pulse one has to attribute transition channels\n",
    "# which describe which transition does the channel target\n",
    "pulseX = PulsedGate()\n",
    "pulseX.new_channel('clock', ('0', '1'))\n",
    "# pulses can be added to the sequence using the pulse shape,\n",
    "# the transition channel and the target of the pulse \n",
    "pulseX.add_pulse(pulse=const_amplitude('01', 6*np.pi), \n",
    "                 channel='clock', target=0)\n",
    "pulseX._compile_pulses(1e-9)"
   ]
  },
  {
   "cell_type": "markdown",
   "metadata": {},
   "source": [
    "A pulse is simulated after being included into a quantum circuit, and later ran with `Simulator.run_circuit`."
   ]
  },
  {
   "cell_type": "code",
   "execution_count": null,
   "metadata": {},
   "outputs": [],
   "source": [
    "from rsp.core.circuit import QuantumCircuit\n",
    "from rsp.core.simulation import Simulator\n",
    "\n",
    "qc = QuantumCircuit()\n",
    "# Append an operation to the circuit sequence, setting a target\n",
    "qc.add_operation(pulseX, ['A']) \n",
    "\n",
    "# The simulator requires the experimental configuration and the starting atom lattice\n",
    "sim = Simulator(exp, atomsys)\n",
    "\n",
    "# The save_states flag is used to keep track of the states through the evolution\n",
    "sim.run_circuit(qc, save_states=True)"
   ]
  },
  {
   "cell_type": "markdown",
   "metadata": {},
   "source": [
    "After simulating, we can visualize the rabi oscillations from the state $|0\\rangle$ to $|1\\rangle$ \n",
    "\n",
    "$6\\pi$ corresponds to 3 full rotations"
   ]
  },
  {
   "cell_type": "code",
   "execution_count": null,
   "metadata": {},
   "outputs": [],
   "source": [
    "from qutip import ket\n",
    "import matplotlib.pyplot as plt\n",
    "\n",
    "overlap = []\n",
    "for psi in sim.saved_states:\n",
    "    overlap.append( np.abs((ket('1', 3).dag() * psi).tr())**2)\n",
    "\n",
    "plt.plot(sim.saved_states_times, overlap)\n",
    "plt.ylabel(r'Overlap $ |\\langle 1|\\psi\\rangle|^2 $')\n",
    "plt.xlabel('time (s)')\n",
    "plt.title(r\"Rabi oscillations for the  $|0\\rangle\\rightarrow|1\\rangle$  transition\")\n",
    "plt.show()\n"
   ]
  },
  {
   "cell_type": "markdown",
   "metadata": {},
   "source": [
    "It is also interesting to see the state evolution through the Bloch sphere!\n",
    "\n",
    "The pulse can be interpreted as a rotation along the $x$ axis "
   ]
  },
  {
   "cell_type": "code",
   "execution_count": null,
   "metadata": {},
   "outputs": [],
   "source": [
    "import qutip \n",
    "from qutip import ket, Bloch, basis, qeye\n",
    "\n",
    "# this projector is needed to convert the qutrit state into a qubit\n",
    "two_projector = ket('0', 2) * ket('0', 3).dag() +  ket('1', 2) * ket('1', 3).dag()\n",
    "b = qutip.Bloch()\n",
    "\n",
    "b.point_color = ['b']*len(sim.saved_states)\n",
    "b.point_marker = ['o']*len(sim.saved_states)\n",
    "b.point_alpha = [*np.linspace(0.1, 1, len(sim.saved_states))]\n",
    "b.point_size = [*np.linspace(10, 100, len(sim.saved_states))]\n",
    "\n",
    "b.sphere_color = '#FFFFDD'\n",
    "\n",
    "for psi in sim.saved_states:\n",
    "    b.add_states(two_projector*psi, kind='point',)\n",
    "b.show()"
   ]
  },
  {
   "cell_type": "markdown",
   "metadata": {},
   "source": [
    "Another operation possible with laser pulses are rotations around the $z$ axis\n",
    "\n",
    "Lets do a z rotation and try to get the state $|+\\rangle=\\frac{1}{\\sqrt{2}} (|0\\rangle + |1\\rangle)$, which corresponds to the state on the positive $x$ direction "
   ]
  },
  {
   "cell_type": "code",
   "execution_count": null,
   "metadata": {},
   "outputs": [],
   "source": [
    "qc.reset()\n",
    "\n",
    "pulseX = PulsedGate()\n",
    "pulseX.new_channel('clock', ('0', '1'))\n",
    "\n",
    "# This time we only rotate pi/2 around the sphere\n",
    "pulseX.add_pulse(pulse=const_amplitude('01', 1/2*np.pi), \n",
    "                 channel='clock', target=0)\n",
    "\n",
    "pulseX._compile_pulses(1e-9)\n",
    "\n",
    "pulseZ = PulsedGate()\n",
    "pulseZ.new_channel('clock', ('0', '1'))\n",
    "# Here we have a detuning which rotates the state around the z axis by pi/2\n",
    "pulseZ.add_pulse(pulse=const_amplitude('01', 0, 1/2*np.pi), \n",
    "                 channel='clock', target=0)\n",
    "pulseZ._compile_pulses(1e-9)\n",
    "\n",
    "qc.add_operation(pulseX, ['A']) # rotate around x\n",
    "qc.add_operation(pulseZ, ['A']) # rotate around z\n",
    "\n",
    "sim = Simulator(exp, atomsys)\n",
    "\n",
    "sim.run_circuit(qc, save_states=True)"
   ]
  },
  {
   "cell_type": "markdown",
   "metadata": {},
   "source": [
    "Plotting the evolution of the overlap of the state gives us insight into what is happening.\n",
    "\n",
    "Here we first overlap with $|1\\rangle$, and then with $|+\\rangle$"
   ]
  },
  {
   "cell_type": "code",
   "execution_count": null,
   "metadata": {},
   "outputs": [],
   "source": [
    "from qutip import ket, Bloch, basis, qeye\n",
    "import matplotlib.pyplot as plt\n",
    "\n",
    "overlapX = []\n",
    "overlapP = []\n",
    "ket_plus = (ket('0', 3)+ket('1', 3))/np.sqrt(2) # |+> = (|0> + |1>)/sqrt2\n",
    "\n",
    "for psi in sim.saved_states:\n",
    "    overlapX.append( np.abs((ket('1', 3).dag() * psi).tr())**2 )\n",
    "    overlapP.append( np.abs((ket_plus.dag() * psi).tr())**2 )\n",
    "\n",
    "plt.plot(sim.saved_states_times, overlapX, label=r'$|\\langle 1|\\psi\\rangle|^2$')\n",
    "plt.plot(sim.saved_states_times, overlapP, label=r'$|\\langle +|\\psi\\rangle|^2$')\n",
    "\n",
    "plt.ylabel(r'Overlap')\n",
    "plt.xlabel('time (s)')\n",
    "plt.title(r\"Plotting state evolution from the overlaps\")\n",
    "plt.legend()\n",
    "plt.show()"
   ]
  },
  {
   "cell_type": "markdown",
   "metadata": {},
   "source": [
    "We can also see this nicely on the Bloch sphere"
   ]
  },
  {
   "cell_type": "code",
   "execution_count": null,
   "metadata": {},
   "outputs": [],
   "source": [
    "import qutip \n",
    "from qutip import ket, Bloch, basis, qeye\n",
    "\n",
    "# this projector is needed to convert the qutrit state into a qubit\n",
    "two_projector = ket('0', 2) * ket('0', 3).dag() +  ket('1', 2) * ket('1', 3).dag()\n",
    "b = qutip.Bloch()\n",
    "\n",
    "b.point_color = ['b']*len(sim.saved_states)\n",
    "b.point_marker = ['o']*len(sim.saved_states)\n",
    "b.point_alpha = [*np.linspace(0.1, 1, len(sim.saved_states))]\n",
    "b.point_size = [*np.linspace(10, 100, len(sim.saved_states))]\n",
    "\n",
    "b.sphere_color = '#FFFFDD'\n",
    "\n",
    "for psi in sim.saved_states:\n",
    "    b.add_states(two_projector*psi, kind='point',)\n",
    "b.show()"
   ]
  },
  {
   "cell_type": "markdown",
   "metadata": {},
   "source": [
    "[Z, X matrices, |+>,|-> kets]"
   ]
  },
  {
   "cell_type": "markdown",
   "metadata": {},
   "source": [
    "## Building gates for quantum computation\n",
    "\n",
    "Lets build some quantum gates. Namely\n",
    "- $X_{01}$ - $|0\\rangle \\leftrightarrow |1\\rangle$ transition\n",
    "- $\\sqrt{X}$ - half of $X_{01}$\n",
    "- $Z$ - induces a phase difference of $\\pi$ between $|0\\rangle \\leftrightarrow |1\\rangle$\n",
    "- $S$ - half of Z\n",
    "- $T$ - half of S\n",
    "- $X_{1r}$ - $|1\\rangle \\leftrightarrow |r\\rangle$ transition\n",
    "\n",
    "Can you figure out how they are defined with pulses?"
   ]
  },
  {
   "cell_type": "code",
   "execution_count": null,
   "metadata": {},
   "outputs": [],
   "source": [
    "\n",
    "gateX01 = PulsedGate()\n",
    "gateX01.new_channel('clock', ('0', '1'))\n",
    "# Start of gate X01\n",
    "gateX01.add_pulse(pulse=const_amplitude('01', np.pi), \n",
    "                  channel='clock', target=0) \n",
    "# end of gate X01\n",
    "\n",
    "gateSX = PulsedGate() # sqrt of X\n",
    "gateSX.new_channel('clock', ('0', '1'))\n",
    "# Start of gate SX\n",
    "\n",
    "# end of gate SX\n",
    "\n",
    "\n",
    "gateZ = PulsedGate()\n",
    "gateZ.new_channel('clock', ('0', '1'))\n",
    "# Start of gate Z01\n",
    "\n",
    "# end of gate Z01\n",
    "\n",
    "\n",
    "gateS = PulsedGate() # sqrt of Z\n",
    "gateS.new_channel('clock', ('0', '1'))\n",
    "# Start of gate S\n",
    "gateS.add_pulse(pulse=const_amplitude('01', 0, 1/2*np.pi), \n",
    "                channel='clock', target=0)\n",
    "# end of gate S\n",
    "\n",
    "\n",
    "gateT = PulsedGate() # sqrt of S\n",
    "gateT.new_channel('clock', ('0', '1'))\n",
    "# Start of gate S\n",
    "\n",
    "# end of gate S\n",
    "\n",
    "\n",
    "gateX1r = PulsedGate()\n",
    "gateX1r.new_channel('ryd', ('1', 'r'))\n",
    "# Start of gate X1r\n",
    "\n",
    "# end of gate X1r"
   ]
  },
  {
   "cell_type": "markdown",
   "metadata": {},
   "source": [
    "The gates can be added to the quantum circuit dictionary so that you may refer to them with their name"
   ]
  },
  {
   "cell_type": "code",
   "execution_count": null,
   "metadata": {},
   "outputs": [],
   "source": [
    "qc = QuantumCircuit()\n",
    "qc.add_to_dictionary(gateX01, 'X01')\n",
    "qc.add_to_dictionary(gateSX, 'SX')\n",
    "qc.add_to_dictionary(gateZ, 'Z')\n",
    "qc.add_to_dictionary(gateS, 'S')\n",
    "qc.add_to_dictionary(gateT, 'T')\n",
    "qc.add_to_dictionary(gateX1r, 'X1r')"
   ]
  },
  {
   "cell_type": "markdown",
   "metadata": {},
   "source": [
    "Lets use these operations"
   ]
  },
  {
   "cell_type": "code",
   "execution_count": null,
   "metadata": {},
   "outputs": [],
   "source": [
    "qc.reset()\n",
    "\n",
    "# This sequence of operations will be seen later as a gate\n",
    "qc.add_operation('S', ['A'])\n",
    "qc.add_operation('SX', ['A'])\n",
    "qc.add_operation('S', ['A'])\n",
    "\n",
    "\n",
    "qc.add_operation('T', ['A'])\n",
    "qc.add_operation('SX', ['A'])\n",
    "qc.add_operation('Z', ['A'])\n",
    "qc.add_operation('X1r', ['A'])\n",
    "\n",
    "\n",
    "ket_plus = (ket('0', 3) + ket('1', 3))/np.sqrt(2)\n",
    "ket_minus = (ket('0', 3) - ket('1', 3))/np.sqrt(2)\n",
    "\n",
    "sim = Simulator(exp, atomsys)\n",
    "\n",
    "sim.run_circuit(qc, save_states=True)\n"
   ]
  },
  {
   "cell_type": "markdown",
   "metadata": {},
   "source": [
    "It is interesting to see what this sequence of operations does on the Bloch sphere"
   ]
  },
  {
   "cell_type": "code",
   "execution_count": null,
   "metadata": {},
   "outputs": [],
   "source": [
    "import qutip \n",
    "from qutip import ket\n",
    "\n",
    "two_projector = ket('0', 2) * ket('0', 3).dag() +  ket('1', 2) * ket('1', 3).dag()\n",
    "b = qutip.Bloch()\n",
    "\n",
    "b.point_color = ['b']*len(sim.saved_states)\n",
    "b.point_marker = ['o']*len(sim.saved_states)\n",
    "b.point_alpha = [*np.linspace(0.1, 1, len(sim.saved_states))]\n",
    "b.point_size = [*np.linspace(10, 100, len(sim.saved_states))]\n",
    "\n",
    "b.sphere_color = '#FFFFDD'\n",
    "\n",
    "for psi in sim.saved_states:\n",
    "    b.add_states(two_projector*psi, kind='point',)\n",
    "b.show()"
   ]
  },
  {
   "cell_type": "markdown",
   "metadata": {},
   "source": [
    "### Multiple atom operations"
   ]
  },
  {
   "cell_type": "markdown",
   "metadata": {},
   "source": [
    "So far we have looked into single qubit rotations on a single atom. \n",
    "\n",
    "Things become more fun with more atoms! \n",
    "\n",
    "Lets add one more and see which operations we can do"
   ]
  },
  {
   "cell_type": "code",
   "execution_count": null,
   "metadata": {},
   "outputs": [],
   "source": [
    "atomsys = AtomSystem()\n",
    "\n",
    "atom = exp.get_atom()\n",
    "lattice_unit = 3e-6 # default distance between atoms is 3 \\mu m\n",
    "\n",
    "positions = {'A': lattice_unit * np.array([0,0,0]),\n",
    "             'B': lattice_unit * np.array([1,0,0])}\n",
    "\n",
    "# loading the atom system with atoms and respective positions\n",
    "for label, pos in positions.items():\n",
    "    atomsys.add_atom(label, atom, pos)\n",
    "\n",
    "qc = QuantumCircuit()\n",
    "\n",
    "qc.add_to_dictionary(gateX01, 'X')\n",
    "qc.add_to_dictionary(gateX1r, 'X1r')\n",
    "\n"
   ]
  },
  {
   "cell_type": "markdown",
   "metadata": {},
   "source": [
    "Introducing the Hadamard gate to the gate dictionary"
   ]
  },
  {
   "cell_type": "code",
   "execution_count": null,
   "metadata": {},
   "outputs": [],
   "source": [
    "# New gate for the circuit: Hadamard\n",
    "gateH = PulsedGate()\n",
    "gateH.new_channel('clock', ('0', '1'))\n",
    "\n",
    "# S gate\n",
    "gateH.add_pulse(pulse=const_amplitude('01', 0, 1/2*np.pi), \n",
    "                channel='clock', target=0)\n",
    "gateH.shift_pulses(-gateH.max_time) # shifting pulses back to avoid overlap of pulses\n",
    "\n",
    "# SX gate\n",
    "gateH.add_pulse(pulse=const_amplitude('01', 1/2*np.pi), \n",
    "                channel='clock', target=0) \n",
    "gateH.shift_pulses(-gateH.max_time)\n",
    "\n",
    "# S gate\n",
    "gateH.add_pulse(pulse=const_amplitude('01', 0, 1/2*np.pi), \n",
    "                channel='clock', target=0)\n",
    "gateH.shift_pulses(-gateH.max_time)\n",
    "\n",
    "qc.add_to_dictionary(gateH, 'H')\n",
    "\n",
    "from rsp.utils.visualize import plot_pulsed_gate\n",
    "import matplotlib.pyplot as plt\n",
    "\n",
    "plot_pulsed_gate(gateH)\n",
    "plt.legend()\n",
    "plt.show()"
   ]
  },
  {
   "cell_type": "markdown",
   "metadata": {},
   "source": [
    "<img src=\"ryd pulse.png\" width=\"400\"/>  \n",
    "\n",
    "We will call this pulse sequence `Ryd`"
   ]
  },
  {
   "cell_type": "code",
   "execution_count": null,
   "metadata": {},
   "outputs": [],
   "source": [
    "\n",
    "gateRy = PulsedGate()\n",
    "gateRy.new_channel('clock', ('0', '1'))\n",
    "gateRy.new_channel('ryd', ('1', 'r'))\n",
    "\n",
    "gateRy.add_pulse(const_amplitude('1r', np.pi), \n",
    "                 'ryd', target=0)\n",
    "gateRy.shift_pulses(-gateRy.max_time)\n",
    "\n",
    "gateRy.add_pulse(const_amplitude('1r', 2*np.pi), \n",
    "                 'ryd', target=1)\n",
    "gateRy.shift_pulses(-gateRy.max_time)\n",
    "\n",
    "gateRy.add_pulse(const_amplitude('1r', np.pi), \n",
    "                 'ryd', target=0)\n",
    "gateRy.shift_pulses(-gateRy.max_time)\n",
    "\n",
    "qc.add_to_dictionary(gateRy, 'Ry')\n"
   ]
  },
  {
   "cell_type": "code",
   "execution_count": null,
   "metadata": {},
   "outputs": [],
   "source": [
    "\n",
    "gateRy = PulsedGate()\n",
    "gateRy.new_channel('clock', ('0', '1'))\n",
    "gateRy.new_channel('ryd', ('1', 'r'))\n",
    "\n",
    "gateRy.add_pulse(const_amplitude('1r', np.pi), \n",
    "                 'ryd', target=0)\n",
    "gateRy.shift_pulses(-gateRy.max_time)\n",
    "\n",
    "gateRy.add_pulse(const_amplitude('1r', 2*np.pi), \n",
    "                 'ryd', target=1)\n",
    "gateRy.shift_pulses(-gateRy.max_time)\n",
    "\n",
    "gateRy.add_pulse(const_amplitude('1r', np.pi), \n",
    "                 'ryd', target=0)\n",
    "gateRy.shift_pulses(-gateRy.max_time)\n",
    "\n",
    "qc.add_to_dictionary(gateRy, 'Ry')\n"
   ]
  },
  {
   "cell_type": "markdown",
   "metadata": {},
   "source": [
    "To validate our understanding about the gate, we can see what happens to the sign of the different states on superposition"
   ]
  },
  {
   "cell_type": "code",
   "execution_count": null,
   "metadata": {},
   "outputs": [],
   "source": [
    "qc.reset()\n",
    "\n",
    "qc.add_operation('H', ['A']) # 0 -> +\n",
    "qc.add_operation('H', ['B']) # 0 -> +\n",
    "\n",
    "qc.add_operation('Ry', ['A', 'B'])\n",
    "\n",
    "sim = Simulator(exp, atomsys)\n",
    "\n",
    "sim.run_circuit(qc, save_states=True)\n",
    "\n",
    "from rsp.utils.state_view import show_state, print_state\n",
    "\n",
    "print_state(sim.psi)"
   ]
  },
  {
   "cell_type": "markdown",
   "metadata": {},
   "source": [
    "$|++\\rangle = \\frac{1}{2} (|00\\rangle + |01\\rangle +|10\\rangle+|11\\rangle) \\xrightarrow{Ry} \\frac{1}{2} (|00\\rangle - |01\\rangle - |10\\rangle - |11\\rangle)$\n",
    "\n",
    "This is similar to the CZ gate, which does the following\n",
    "\n",
    "$ CZ |++\\rangle =  \\frac{1}{2} (|00\\rangle + |01\\rangle + |10\\rangle - |11\\rangle) $\n",
    "\n",
    "How can we get the CZ gate with Ry? Some single qubit gates have to be added, can you guess which? \n",
    "\n",
    "Note: Global phases can be ignored\n"
   ]
  },
  {
   "cell_type": "code",
   "execution_count": null,
   "metadata": {},
   "outputs": [],
   "source": [
    "qc.reset()\n",
    "\n",
    "qc.add_operation('H', ['A']) # 0 -> +\n",
    "qc.add_operation('H', ['B']) # 0 -> +\n",
    "\n",
    "# Single qubit gates before\n",
    "\n",
    "\n",
    "qc.add_operation('Ry', ['A', 'B'])\n",
    "# Single qubit gates after\n",
    "\n",
    "\n",
    "# end of single qubit gates\n",
    "\n",
    "sim = Simulator(exp, atomsys)\n",
    "\n",
    "sim.run_circuit(qc, save_states=True)\n",
    "\n",
    "from rsp.utils.state_view import show_state, print_state\n",
    "\n",
    "print(f\"|psi>={print_state(sim.psi)}\")"
   ]
  },
  {
   "cell_type": "markdown",
   "metadata": {},
   "source": [
    "The CNOT gate is widely used in quantum circuits to entangle qubits. \n",
    "\n",
    "It works as follows: \n",
    " - If the control qubit is $|0\\rangle$, then nothing happens to the target qubit. \n",
    " - If the control qubit is $|1\\rangle$, then the target qubit is fliped with an $X$ gate. \n",
    "\n",
    "For instance\n",
    "\n",
    "* $CNOT |0\\rangle_c |0\\rangle_t = |0\\rangle_c |0\\rangle_t$\n",
    "\n",
    "* $CNOT |1\\rangle_c |0\\rangle_t = |1\\rangle_c |1\\rangle_t$\n",
    "\n",
    "Thus:\n",
    "*  $CNOT |+\\rangle_c |0\\rangle_t = \\frac{1}{\\sqrt{2}} ( |00\\rangle_{ct} + |11\\rangle_{ct})$\n",
    "\n",
    "where $|+\\rangle=\\frac{1}{\\sqrt{2}} (|0\\rangle + |1\\rangle)$\n",
    "\n",
    "The CZ gate can be easily converted into the CNOT gate with single qubit gates\n",
    "\n",
    "In the `GateDictionary` object all of these gates have already been defined. \n",
    "\n",
    "We can use it to load a premade CZ gate\n",
    "\n",
    "With `interactive_state_plot` we can see the evolution of the state over the sequence through an histogram "
   ]
  },
  {
   "cell_type": "code",
   "execution_count": null,
   "metadata": {},
   "outputs": [],
   "source": [
    "from rsp.core.circuit.gatedictionary import GateDictionary\n",
    "\n",
    "gd = GateDictionary(exp)\n",
    "qc = QuantumCircuit()\n",
    "qc.add_to_dictionary(gd.CZ(), 'CZ')\n",
    "qc.add_to_dictionary(gd.H('01'), 'H')\n",
    "\n",
    "qc.reset()\n",
    "\n",
    "qc.add_operation('H', ['A']) # 0 -> +\n",
    "\n",
    "# CNOT sequence\n",
    "# 1. Hadamard on the target\n",
    "# 2. CZ between control and target (symmetric gate)\n",
    "# 3. Hadamard again on target\n",
    "qc.add_operation('H', ['B'])\n",
    "qc.add_operation('CZ', ['A', 'B'])\n",
    "qc.add_operation('H', ['B'])\n",
    "\n",
    "sim = Simulator(exp, atomsys)\n",
    "\n",
    "sim.run_circuit(qc, save_states=True)\n",
    "\n",
    "from rsp.utils.state_view import show_state, print_state, show_state_evol, interactive_state_plot\n",
    "\n",
    "show_state_evol(sim.saved_states_times, sim.saved_states, ['00', '01', '10', '11'], atomsys)\n",
    "plt.show()\n",
    "\n",
    "interactive_state_plot(sim.saved_states, sim.saved_states_times)"
   ]
  },
  {
   "cell_type": "markdown",
   "metadata": {},
   "source": [
    "This is all for the pulse building section. In the next section there is a demo introducing other capabilities of the simulation platform"
   ]
  },
  {
   "cell_type": "markdown",
   "metadata": {},
   "source": [
    "# Demo: Quantum State Teleportation "
   ]
  },
  {
   "cell_type": "markdown",
   "metadata": {},
   "source": [
    "We will use atom transport to move atom B away after the entanglement operation. The `AtomTransport` operation also allows you to define the transport method. The default method is called `direct`, which simply moves the atoms with a constant speed of $0.5\\,\\mu m/\\mu s$"
   ]
  },
  {
   "cell_type": "markdown",
   "metadata": {},
   "source": [
    "Here we define the atomic system. After entangling atom $A$ with $B$, we move $B$ far away.\n"
   ]
  },
  {
   "cell_type": "code",
   "execution_count": 28,
   "metadata": {},
   "outputs": [],
   "source": [
    "import numpy as np\n",
    "from rsp.core.experiment import ExperimentSetup, AtomSystem\n",
    "from rsp.core.circuit.quantumcircuit import QuantumCircuit\n",
    "from rsp.core.circuit.pulses import PulsedGate\n",
    "from rsp.core.circuit.gatedictionary import GateDictionary\n",
    "from rsp.core.circuit import AtomTransport\n",
    "from rsp.core.simulation import Simulator\n",
    "\n",
    "\n",
    "exp = ExperimentSetup.fromFile('/content/KAT-RSP-Workshop2023/code/hardware_config.json') # on colab\n",
    "\n",
    "gd = GateDictionary(exp)\n",
    "\n",
    "# Loading a gate dictionary into the quantum circuit\n",
    "qc = QuantumCircuit()\n",
    "gd.load_cached_qc(qc, ['X','Xr', 'H', 'Z', 'CX', 'CZ'], \n",
    "                  exp, None, lattice_unit)\n",
    "from rsp.core.circuit import Measurement\n",
    "qc.add_to_dictionary(Measurement(), 'M', 'pulsed', \n",
    "                     ['measurement variable'])\n",
    "\n",
    "# Preparing the atom lattice\n",
    "atomsys = AtomSystem()\n",
    "atom = exp.get_atom()\n",
    "\n",
    "lattice_unit = 4e-6 \n",
    "positions = {\n",
    "    'A': lattice_unit * np.array([0,0,0]), \n",
    "    'B': lattice_unit * np.array([1,0,0]), \n",
    "    'T': lattice_unit * np.array([0,1,0])\n",
    "}\n",
    "\n",
    "# loading the atom system with atoms and respective positions\n",
    "for label, pos in positions.items():\n",
    "    atomsys.add_atom(label, atom, pos)\n",
    "\n",
    "# After entanglement generation we move atom B very far away\n",
    "new_pos_b = lattice_unit*np.array([100,0,0])\n",
    "\n",
    "# Defining the operation to move B far from A\n",
    "transport = AtomTransport({'B':new_pos_b})\n",
    "transport.set_representation('box {{Move\\\\\\\\to Narnia}} {targets}; align -;') # changing the latex representation\n",
    "\n",
    "# Parameters to generate the |psi> state\n",
    "theta = 2*np.pi * 3/5 \n",
    "phi = 2*np.pi * 1/8 \n"
   ]
  },
  {
   "cell_type": "markdown",
   "metadata": {},
   "source": [
    "Defining the quantum teleportation circuit. \n",
    "1. Entangling A and B\n",
    "2. Move B far away\n",
    "3. Prepare some custom state on atom T: $|\\psi\\rangle_T=R_z(\\phi)R_x(\\theta)|0\\rangle_T$\n",
    "4. Couple T to A and prepare for measurement\n",
    "5. Measure atoms A and T; load measurement results into variables $m_A$ and $m_T$\n",
    "6. Execute X/Z gates on B depending on the measurement results to recover state on atom B $|\\psi\\rangle_B$ \n",
    "7. Invert state creation circuit $(R_z(\\phi)R_x(\\theta))^\\dagger=R_x(-\\theta)R_z(-\\phi)$. \n",
    "\n",
    "If the state on B ends up $\\ket{0}$, the teleportation protocol is successful!\n"
   ]
  },
  {
   "cell_type": "code",
   "execution_count": null,
   "metadata": {},
   "outputs": [],
   "source": [
    "qc.reset() # if this cell ends up being run more than once, this makes sure that the circuit doesn't have duplicated gates by resetting the circuit\n",
    "\n",
    "# 1. prepare Bell state between A and B\n",
    "qc.add_operation('H', ['A'])\n",
    "qc.add_operation('CX', ['A', 'B'])\n",
    "\n",
    "# 2. move atom B far away\n",
    "qc.add_operation(transport, ['B'])\n",
    "\n",
    "# 3. prepare some state on atom T\n",
    "rx = gd.RX('01', theta)\n",
    "rx.set_representation('box {{$R_X(\\\\theta)$}} {target};')# changing the latex representation\n",
    "rz = gd.RZ('01', phi)\n",
    "rz.set_representation('box {{$R_Z(\\\\phi)$}} {target};')\n",
    "if theta!=0:\n",
    "    qc.add_operation(rx, ['T'])\n",
    "if phi!=0:\n",
    "    qc.add_operation(rz, ['T'])\n",
    "\n",
    "# 4. Coupling T to A; preparing for measurement\n",
    "qc.add_operation('CX', ['T','A'])\n",
    "qc.add_operation('H', ['T'])\n",
    "\n",
    "# 5. Measurement\n",
    "# The 'args' define which circuit variable\n",
    "# does the measurement outcome feed into\n",
    "qc.add_operation('M', ['T'], args='mT')\n",
    "qc.add_operation('M', ['A'], args='mA')\n",
    "\n",
    "\n",
    "# 6. Parameter controlled gates\n",
    "# Here we start defining classically controlled gates \n",
    "# using circuit variables\n",
    "from rsp.core.circuit.pulses import ParametrizedPulsedGate\n",
    "\n",
    "# If the bit is 1, then return a Z gate, otherwise do nothing\n",
    "def classic_z(b):\n",
    "    if b==1: return gd.Z('01') \n",
    "    return None\n",
    "\n",
    "# The 'True' tag indicates if the output of the parametrized gate can be cached\n",
    "classicZ = ParametrizedPulsedGate(classic_z, ['b'], True)\n",
    "classicZ.set_representation('box {{$Z_T$}} {target} | var;') # changing the latex representation\n",
    "qc.add_operation(classicZ, ['B'], args={'mT':0})\n",
    "\n",
    "# If the bit is 1, then return a X gate, otherwise do nothing\n",
    "def classic_x(b):\n",
    "    if b==1: return gd.X('01') \n",
    "    return None\n",
    "\n",
    "classicX = ParametrizedPulsedGate(classic_x, ['b'], True)\n",
    "classicX.set_representation('box {{$X_A$}} {target} | var;')\n",
    "qc.add_operation(classicX, ['B'], args={'mA':0})\n",
    "\n",
    "# 7. At the end of the protocol we expect the state to be T\n",
    "# So, lets reverse the operation that generated T\n",
    "# The protocol was successful if the outcome is |0>\n",
    "rz1 = gd.RZ('01', -phi) # inverse Rz gate\n",
    "rz1.set_representation('box {{$R_Z(-\\\\phi)$}} {target};')\n",
    "\n",
    "rx1 = gd.RX('01', -theta) # inverse Rx gate\n",
    "rx1.set_representation('box {{$R_X(-\\\\theta)$}} {target};')\n",
    "\n",
    "if phi!=0:\n",
    "    qc.add_operation(rz1, ['B'])\n",
    "if theta!=0:\n",
    "    qc.add_operation(rx1, ['B'])\n",
    "\n"
   ]
  },
  {
   "cell_type": "markdown",
   "metadata": {},
   "source": [
    "Visualizing the circuit through $\\LaTeX$\n",
    "\n",
    "(need to install latex packages)"
   ]
  },
  {
   "cell_type": "code",
   "execution_count": 1,
   "metadata": {},
   "outputs": [
    {
     "data": {
      "image/png": "[encoded data removed]",
      "text/plain": [
       "<IPython.core.display.Image object>"
      ]
     },
     "execution_count": 1,
     "metadata": {
      "image/png": {
       "height": 390,
       "width": 1736
      }
     },
     "output_type": "execute_result"
    }
   ],
   "source": [
    "from rsp.utils.visualize import plot_quantum_circuit\n",
    "from IPython.display import Image\n",
    "# This would run with latex installed\n",
    "# img = plot_quantum_circuit(qc, {'T':'q_T', 'A':'q_A', 'B':'q_B'}, show_vars=True)\n",
    "\n",
    "# Otherwise, we can use an already generated image\n",
    "img = '/content/KAT-RSP-Workshop2023/code/circuit.png'\n",
    "Image(filename=img, retina=True)"
   ]
  },
  {
   "cell_type": "markdown",
   "metadata": {},
   "source": [
    "Run the circuit once and check the teleportation fidelity"
   ]
  },
  {
   "cell_type": "code",
   "execution_count": null,
   "metadata": {},
   "outputs": [],
   "source": [
    "sim = Simulator(exp, atomsys)\n",
    "\n",
    "sim.run_circuit(qc, save_states=True)\n",
    "\n",
    "fid = np.abs(sim.psi.overlap(atomsys.ket(('B', '0'))))\n",
    "print(f\"Teleportation fidelity: {fid}\")"
   ]
  },
  {
   "cell_type": "markdown",
   "metadata": {},
   "source": [
    "Or run it many times and obtain statistics\n",
    "\n",
    "Gate caching is very important here to make the execution fast"
   ]
  },
  {
   "cell_type": "code",
   "execution_count": null,
   "metadata": {},
   "outputs": [],
   "source": [
    "from rsp.core.simulation import Simulator\n",
    "from timeit import default_timer as timer\n",
    "\n",
    "sim = Simulator(exp, atomsys)\n",
    "\n",
    "n_experiments = 50 \n",
    "\n",
    "data = []\n",
    "\n",
    "final_states = []\n",
    "\n",
    "print(\"Running simulation...\")\n",
    "start = timer()\n",
    "cvars, states = sim.run_circuit_statistical(qc, \n",
    "                                            num_runs=n_experiments,\n",
    "                                            save_states=True, \n",
    "                                            track_end_state=True,\n",
    "                                            runtime_caching=True)\n",
    "print(f\"Simulation took {timer()-start:.3} s\")\n",
    "\n",
    "\n",
    "for mA, mT, state in zip(cvars['mA'], cvars['mT'], states):\n",
    "    overlap = (atomsys.ket(('B', '0')).dag() * state ).norm()\n",
    "    data.append([mA, mT, overlap])\n",
    "    "
   ]
  },
  {
   "cell_type": "markdown",
   "metadata": {},
   "source": [
    "The average fidelity is computed through a geometric mean"
   ]
  },
  {
   "cell_type": "code",
   "execution_count": null,
   "metadata": {},
   "outputs": [],
   "source": [
    "\n",
    "# calculating the geometric average over the 50 samples\n",
    "gavg = 1\n",
    "for _, _, overlap in data:\n",
    "    gavg *= overlap\n",
    "gavg = np.power(gavg, 1/len(data))\n",
    "print(f\"Fidelity average: {gavg:.3}\")"
   ]
  }
 ],
 "metadata": {
  "kernelspec": {
   "display_name": "kat-rsp-workshop2023-HcqDsBMQ",
   "language": "python",
   "name": "python3"
  },
  "language_info": {
   "codemirror_mode": {
    "name": "ipython",
    "version": 3
   },
   "file_extension": ".py",
   "mimetype": "text/x-python",
   "name": "python",
   "nbconvert_exporter": "python",
   "pygments_lexer": "ipython3",
   "version": "3.11.5"
  }
 },
 "nbformat": 4,
 "nbformat_minor": 2
}
