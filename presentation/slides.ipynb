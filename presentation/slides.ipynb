{
 "cells": [
  {
   "cell_type": "markdown",
   "metadata": {
    "slideshow": {
     "slide_type": "slide"
    }
   },
   "source": [
    "# Workshop - Scalable quantum computing\n",
    "\n",
    "## The Rydberg Simulation Platform - RSP\n"
   ]
  },
  {
   "cell_type": "markdown",
   "metadata": {
    "slideshow": {
     "slide_type": "fragment"
    }
   },
   "source": [
    "$~$\n",
    "\n",
    "- The physics of Rydberg atoms\n",
    "- From laser pulses to quantum gates\n",
    "- Example: Quantum State Teleportation protocol"
   ]
  },
  {
   "cell_type": "markdown",
   "metadata": {
    "slideshow": {
     "slide_type": "slide"
    }
   },
   "source": [
    "# Cold atoms and lasers"
   ]
  },
  {
   "cell_type": "markdown",
   "metadata": {
    "slideshow": {
     "slide_type": "subslide"
    }
   },
   "source": [
    "## How lasers drive transitions\n",
    "\n",
    "(Atomic level structure)\n",
    "(laser with frequency $\\omega = \\omega_{01}-\\Delta$)\n",
    "(The rabi frequency scales with $\\sqrt{I_{laser}} $)\n",
    "\n",
    "$H_{01} = \\Omega ( |0\\rangle\\langle 1| + |1\\rangle\\langle 0| ) + \\Delta |1\\rangle\\langle 1|$\n",
    "\n",
    "$H_{1r} = \\Omega ( |1\\rangle\\langle r| + |r\\rangle\\langle 1| ) + \\Delta |r\\rangle\\langle r|$\n",
    "\n",
    "\n",
    "(insert image)"
   ]
  },
  {
   "cell_type": "markdown",
   "metadata": {
    "slideshow": {
     "slide_type": "subslide"
    }
   },
   "source": [
    "## Rydberg atoms are shy"
   ]
  },
  {
   "cell_type": "markdown",
   "metadata": {
    "slideshow": {
     "slide_type": "subslide"
    }
   },
   "source": [
    "## Rydberg atoms are shy\n",
    "\n",
    "Two nearby atoms in the Rydberg level interact strongly\n",
    "$V=-C_6/R^6$\n",
    "\n",
    "$H_{r,r} = V |rr\\rangle\\langle rr|$\n",
    "\n",
    "With a distance of $3\\mu m$, the interaction strength $V=261\\,MHz$ (${}^{88}Sr, n=61$)\n",
    "\n",
    "With standard experimental parameters, the rabi frequency $\\Omega_{1r}=10.5\\, MHz$ (intensity of $25 MW/m^2$)\n",
    "\n",
    "(image: interaction atoms r-r, transition 1-r)\n",
    "\n",
    "If one nearby atom is in the Rydberg state, then the laser is not able to drive the transition, as is too far detuned. (matrix, eigenvalues? level shift graph)\n",
    "\n",
    "One can prepare an atomic state in a superposition $(|1\\rangle + |r\\rangle)/\\sqrt{2}$ and thus create quantum correlations between atoms"
   ]
  },
  {
   "cell_type": "markdown",
   "metadata": {
    "slideshow": {
     "slide_type": "slide"
    }
   },
   "source": [
    "# RSP instalation\n",
    "\n",
    "(Install python, pip, pip git)\n",
    "\n",
    "Make new python environment - quantum-workshop\n",
    "\n",
    "Install rsp and dependecies directly with pip \n",
    "\n",
    "> `pip install git+https://gitlab.tue.nl/20235021/rsp.git`\n",
    "\n",
    "Visualization utilities: \n",
    "    \n",
    "> `pip install rsp[utils]`\n",
    "    \n",
    "> `pip install mayavi`\n",
    "\n",
    "To run jupyter notebooks\n",
    "\n",
    "> `pip install jupyter`\n",
    "\n",
    "$~$\n"
   ]
  },
  {
   "cell_type": "code",
   "execution_count": 1,
   "metadata": {
    "slideshow": {
     "slide_type": "fragment"
    }
   },
   "outputs": [],
   "source": [
    "import rsp"
   ]
  },
  {
   "cell_type": "markdown",
   "metadata": {
    "slideshow": {
     "slide_type": "notes"
    }
   },
   "source": [
    "# Quantum Computation with lasers \n",
    "\n",
    "\n"
   ]
  },
  {
   "cell_type": "markdown",
   "metadata": {
    "slideshow": {
     "slide_type": "skip"
    }
   },
   "source": [
    "###### building the slides\n",
    "\n",
    "`jupyter nbconvert slides.ipynb --to slides --post serve`"
   ]
  },
  {
   "cell_type": "code",
   "execution_count": 15,
   "metadata": {
    "slideshow": {
     "slide_type": "skip"
    }
   },
   "outputs": [
    {
     "name": "stdout",
     "output_type": "stream",
     "text": [
      "[NbConvertApp] Converting notebook slides.ipynb to slides\n",
      "[NbConvertApp] Writing 275049 bytes to slides.slides.html\n",
      "[NbConvertApp] Redirecting reveal.js requests to https://cdnjs.cloudflare.com/ajax/libs/reveal.js/3.5.0\n",
      "Serving your slides at http://127.0.0.1:8000/slides.slides.html\n",
      "Use Control-C to stop this server\n",
      "404 GET /favicon.ico (127.0.0.1) 2.30ms\n",
      "tcgetpgrp failed: Not a tty\n",
      "start : This command cannot be run due to the error: The system cannot find the file specified.\n",
      "At line:1 char:1\n",
      "+ start http?\\127.0.0.1?8000\\slides.slides.html\n",
      "+ ~~~~~~~~~~~~~~~~~~~~~~~~~~~~~~~~~~~~~~~~~~~~~\n",
      "    + CategoryInfo          : InvalidOperation: (:) [Start-Process], InvalidOperationException\n",
      "    + FullyQualifiedErrorId : InvalidOperationException,Microsoft.PowerShell.Commands.StartProcessCommand\n",
      " \n",
      "^C\n",
      "\n",
      "Interrupted\n"
     ]
    }
   ],
   "source": [
    "!jupyter nbconvert slides.ipynb --to slides --post serve"
   ]
  },
  {
   "cell_type": "markdown",
   "metadata": {},
   "source": []
  }
 ],
 "metadata": {
  "kernelspec": {
   "display_name": "kat-rsp-workshop2023-HcqDsBMQ",
   "language": "python",
   "name": "python3"
  },
  "language_info": {
   "codemirror_mode": {
    "name": "ipython",
    "version": 3
   },
   "file_extension": ".py",
   "mimetype": "text/x-python",
   "name": "python",
   "nbconvert_exporter": "python",
   "pygments_lexer": "ipython3",
   "version": "3.11.5"
  }
 },
 "nbformat": 4,
 "nbformat_minor": 2
}
