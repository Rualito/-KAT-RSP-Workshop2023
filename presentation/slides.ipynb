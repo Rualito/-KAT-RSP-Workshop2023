{
 "cells": [
  {
   "cell_type": "markdown",
   "metadata": {
    "slideshow": {
     "slide_type": "slide"
    }
   },
   "source": [
    "# Workshop - Scalable quantum computing\n",
    "\n",
    "## The Rydberg Simulation Platform - RSP\n"
   ]
  },
  {
   "cell_type": "markdown",
   "metadata": {
    "slideshow": {
     "slide_type": "fragment"
    }
   },
   "source": [
    "$~$\n",
    "\n",
    "- Purpose of the simulation platform\n",
    "- The physics of Rydberg atoms\n",
    "- From laser pulses to quantum gates\n",
    "- Example: Quantum State Teleportation protocol"
   ]
  },
  {
   "cell_type": "markdown",
   "metadata": {},
   "source": [
    "## KAT1 Full stack\n",
    "\n",
    "(img)"
   ]
  },
  {
   "cell_type": "markdown",
   "metadata": {
    "slideshow": {
     "slide_type": "slide"
    }
   },
   "source": [
    "# RSP - Rydberg Simulation Platform\n"
   ]
  },
  {
   "cell_type": "markdown",
   "metadata": {
    "slideshow": {
     "slide_type": "subslide"
    }
   },
   "source": [
    "You come up with some quantum algorithm, and you want to understand how well it runs on the quantum computer. "
   ]
  },
  {
   "cell_type": "markdown",
   "metadata": {
    "slideshow": {
     "slide_type": "fragment"
    }
   },
   "source": [
    "You could be testing the algorithm against noise, or trying to fine tune the algorithm to achieve a quantum advantage. \n",
    "\n"
   ]
  },
  {
   "cell_type": "markdown",
   "metadata": {
    "slideshow": {
     "slide_type": "fragment"
    }
   },
   "source": [
    "The results from the quantum computer itself are not that easy to understand and debug, and so you resort to a simulation of the hardware, where you can tune different noise settings and access the full quantum state.   "
   ]
  },
  {
   "cell_type": "markdown",
   "metadata": {
    "slideshow": {
     "slide_type": "fragment"
    }
   },
   "source": [
    "Quantum systems are naturally hard to simulate, and so you cannot use the classical simulation to get the results for the full scale algorithm. Still, some insight is better than no insight..."
   ]
  },
  {
   "cell_type": "markdown",
   "metadata": {
    "slideshow": {
     "slide_type": "subslide"
    }
   },
   "source": [
    "The Rydberg Simulation Platform `RSP`, was built towards that purpose."
   ]
  },
  {
   "cell_type": "markdown",
   "metadata": {
    "slideshow": {
     "slide_type": "fragment"
    }
   },
   "source": [
    "With it, a user can set experimental parameters, different noise configurations and fully customise the shapes of laser pulses. \n"
   ]
  },
  {
   "cell_type": "markdown",
   "metadata": {
    "slideshow": {
     "slide_type": "fragment"
    }
   },
   "source": [
    "`RSP` is quite versatile, and is currently capable of\n",
    "* __Customizable `Measurement`__ operations\n",
    "* Simulation of __transport of atoms__ with laser tweezers via `AtomTransport`\n",
    "* Versatile __pulse sequence construction__ with `PulsedGate` \n",
    "* Physics accurate __gate caching__ for fast execution \n",
    "* __Circuit variables__ and __parametrized gates__ for the simulation of __dynamical circuits__ and mid-circuit measurements\n",
    "* Full evolution with __state decay__ and __anti-trapping__ \n",
    "  "
   ]
  },
  {
   "cell_type": "markdown",
   "metadata": {
    "slideshow": {
     "slide_type": "subslide"
    }
   },
   "source": [
    "## RSP full stack\n",
    "\n",
    "<img src=\"rsp.png\" width=\"400\"/>\n"
   ]
  },
  {
   "cell_type": "markdown",
   "metadata": {
    "slideshow": {
     "slide_type": "subslide"
    }
   },
   "source": [
    "These features are under construction and are to be available soon\n",
    " * Evolution with finite temperature through customizable motional state energy\n",
    " * Gate caching in noisy evolution settings   "
   ]
  },
  {
   "cell_type": "markdown",
   "metadata": {
    "slideshow": {
     "slide_type": "fragment"
    }
   },
   "source": [
    "These features are planned in a longer term vision\n",
    "* Simulation with Tensor Networks to efficiently simulate large systems\n",
    "* Message Passing Interface (MPI) to run in large computing clusters\n",
    "* Full system integration : \n",
    "    * Translation layer with QuA \n",
    "    * Quantum Inspire API\n",
    "* Quantum circuit transpilation "
   ]
  },
  {
   "cell_type": "markdown",
   "metadata": {
    "slideshow": {
     "slide_type": "slide"
    }
   },
   "source": [
    "# Cold atoms and lasers"
   ]
  },
  {
   "cell_type": "markdown",
   "metadata": {
    "slideshow": {
     "slide_type": "subslide"
    }
   },
   "source": [
    "## How lasers drive transitions\n",
    "\n",
    "(Atomic level structure)\n",
    "(laser with frequency $\\omega = \\omega_{01}-\\Delta$)\n",
    "(The rabi frequency scales with $\\sqrt{I_{laser}} $)\n",
    "\n",
    "$H_{01} = \\Omega ( |0\\rangle\\langle 1| + |1\\rangle\\langle 0| ) + \\Delta |1\\rangle\\langle 1|$\n",
    "\n",
    "$H_{1r} = \\Omega ( |1\\rangle\\langle r| + |r\\rangle\\langle 1| ) + \\Delta |r\\rangle\\langle r|$\n",
    "\n",
    "\n",
    "(insert image)"
   ]
  },
  {
   "cell_type": "markdown",
   "metadata": {
    "slideshow": {
     "slide_type": "subslide"
    }
   },
   "source": [
    "## Rydberg atoms are grabby"
   ]
  },
  {
   "cell_type": "markdown",
   "metadata": {
    "slideshow": {
     "slide_type": "subslide"
    }
   },
   "source": [
    "## Rydberg atoms are grabby\n",
    "\n",
    "Two nearby atoms in the Rydberg level interact strongly\n",
    "$V=-C_6/R^6$\n",
    "\n",
    "$H_{r,r} = V |rr\\rangle\\langle rr|$\n",
    "\n",
    "With a distance of $3\\mu m$, the interaction strength $V=261\\,MHz$ (${}^{88}Sr, n=61$)\n",
    "\n",
    "With standard experimental parameters, the rabi frequency $\\Omega_{1r}=10.5\\, MHz$ (intensity of $25 MW/m^2$)\n",
    "\n",
    "(image: interaction atoms r-r, transition 1-r)\n",
    "\n",
    "If one nearby atom is in the Rydberg state, then the laser is not able to drive the transition, as is too far detuned. (matrix, eigenvalues? level shift graph)\n",
    "\n",
    "One can prepare an atomic state in a superposition $(|1\\rangle + |r\\rangle)/\\sqrt{2}$ and thus create quantum correlations between atoms"
   ]
  },
  {
   "cell_type": "markdown",
   "metadata": {
    "slideshow": {
     "slide_type": "slide"
    }
   },
   "source": [
    "# RSP instalation\n",
    "\n",
    "(Install python, pip, pip git)\n",
    "\n",
    "Make new python environment - quantum-workshop\n",
    "\n",
    "Install rsp and dependecies directly with pip \n",
    "\n",
    "`pip install git+https://gitlab.tue.nl/20235021/rsp.git`\n",
    "\n",
    "Visualization utilities: \n",
    "    \n",
    "`pip install rsp[utils]`\n",
    "\n",
    "$~$\n"
   ]
  },
  {
   "cell_type": "code",
   "execution_count": 1,
   "metadata": {
    "slideshow": {
     "slide_type": "fragment"
    }
   },
   "outputs": [],
   "source": [
    "import rsp"
   ]
  },
  {
   "cell_type": "markdown",
   "metadata": {
    "slideshow": {
     "slide_type": "notes"
    }
   },
   "source": [
    "# Quantum Computation with lasers \n",
    "\n",
    "\n"
   ]
  },
  {
   "cell_type": "markdown",
   "metadata": {
    "slideshow": {
     "slide_type": "skip"
    }
   },
   "source": [
    "###### building the slides\n",
    "\n",
    "`jupyter nbconvert slides.ipynb --to slides --post serve`"
   ]
  },
  {
   "cell_type": "code",
   "execution_count": 1,
   "metadata": {
    "slideshow": {
     "slide_type": "skip"
    }
   },
   "outputs": [
    {
     "name": "stdout",
     "output_type": "stream",
     "text": [
      "[NbConvertApp] Converting notebook slides.ipynb to slides\n",
      "[NbConvertApp] WARNING | Alternative text is missing on 1 image(s).\n",
      "[NbConvertApp] Writing 282981 bytes to slides.slides.html\n",
      "[NbConvertApp] Redirecting reveal.js requests to https://cdnjs.cloudflare.com/ajax/libs/reveal.js/3.5.0\n",
      "Serving your slides at http://127.0.0.1:8000/slides.slides.html\n",
      "Use Control-C to stop this server\n",
      "404 GET /favicon.ico (127.0.0.1) 0.57ms\n",
      "^C\n",
      "\n",
      "Interrupted\n"
     ]
    }
   ],
   "source": [
    "!jupyter nbconvert slides.ipynb --to slides --post serve"
   ]
  },
  {
   "cell_type": "markdown",
   "metadata": {},
   "source": []
  }
 ],
 "metadata": {
  "kernelspec": {
   "display_name": "kat-rsp-workshop2023-HcqDsBMQ",
   "language": "python",
   "name": "python3"
  },
  "language_info": {
   "codemirror_mode": {
    "name": "ipython",
    "version": 3
   },
   "file_extension": ".py",
   "mimetype": "text/x-python",
   "name": "python",
   "nbconvert_exporter": "python",
   "pygments_lexer": "ipython3",
   "version": "3.11.5"
  }
 },
 "nbformat": 4,
 "nbformat_minor": 2
}
